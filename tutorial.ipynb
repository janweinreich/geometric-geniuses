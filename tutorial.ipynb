{
 "cells": [
  {
   "cell_type": "markdown",
   "metadata": {},
   "source": [
    "### Feat2LLM\n",
    "\n",
    "\n",
    "In this tutorial you will learn how to generate a string based representation for any numerical feature vector.\n",
    "\n",
    "<img src=\"scheme.png\" width=\"90%\" height=\"40%\" />\n",
    "\n",
    "Steps 1 to 3 in the diagram are all executed in the next cell, where ethanol is the target molecule.\n",
    "But let us break down what happens in each step.\n",
    "\n",
    "1) First we download the MD trajectory data and store it\n",
    "\n",
    "2) Based on the molecular geometries we generate representation vectors, here the MBDF representation [1]. To further compress the representation, we perform a dimensionality reduction, here down to 10 components\n",
    "\n",
    "3) Finally the compressed (numerical!) representation vectors are saved to disk\n",
    "\n",
    "\n",
    "[1] Danish Khan, Stefan Heinen, O. Anatole von Lilienfeld; Kernel based quantum machine learning at record rate: Many-body distribution functionals as compact representations. J. Chem. Phys. 21 July 2023; 159 (3): 034106. https://doi.org/10.1063/5.0152215"
   ]
  },
  {
   "cell_type": "code",
   "execution_count": 1,
   "metadata": {},
   "outputs": [
    {
     "name": "stderr",
     "output_type": "stream",
     "text": [
      "/Users/jan/miniconda3/lib/python3.12/site-packages/tqdm/auto.py:21: TqdmWarning: IProgress not found. Please update jupyter and ipywidgets. See https://ipywidgets.readthedocs.io/en/stable/user_install.html\n",
      "  from .autonotebook import tqdm as notebook_tqdm\n"
     ]
    },
    {
     "name": "stdout",
     "output_type": "stream",
     "text": [
      "WARNING:tensorflow:From /Users/jan/miniconda3/lib/python3.12/site-packages/tensorflow/python/util/deprecation.py:588: calling function (from tensorflow.python.eager.polymorphic_function.polymorphic_function) with experimental_relax_shapes is deprecated and will be removed in a future version.\n",
      "Instructions for updating:\n",
      "experimental_relax_shapes is deprecated, use reduce_retracing instead\n",
      "File already exists\n"
     ]
    },
    {
     "name": "stderr",
     "output_type": "stream",
     "text": [
      "WARNING:tensorflow:From /Users/jan/miniconda3/lib/python3.12/site-packages/tensorflow/python/util/deprecation.py:588: calling function (from tensorflow.python.eager.polymorphic_function.polymorphic_function) with experimental_relax_shapes is deprecated and will be removed in a future version.\n",
      "Instructions for updating:\n",
      "experimental_relax_shapes is deprecated, use reduce_retracing instead\n",
      "WARNING:tensorflow:From /Users/jan/miniconda3/lib/python3.12/site-packages/tensorflow/python/util/deprecation.py:588: calling function (from tensorflow.python.eager.polymorphic_function.polymorphic_function) with experimental_relax_shapes is deprecated and will be removed in a future version.\n",
      "Instructions for updating:\n",
      "experimental_relax_shapes is deprecated, use reduce_retracing instead\n",
      "WARNING:tensorflow:From /Users/jan/miniconda3/lib/python3.12/site-packages/tensorflow/python/util/deprecation.py:588: calling function (from tensorflow.python.eager.polymorphic_function.polymorphic_function) with experimental_relax_shapes is deprecated and will be removed in a future version.\n",
      "Instructions for updating:\n",
      "experimental_relax_shapes is deprecated, use reduce_retracing instead\n",
      "WARNING:tensorflow:From /Users/jan/miniconda3/lib/python3.12/site-packages/tensorflow/python/util/deprecation.py:588: calling function (from tensorflow.python.eager.polymorphic_function.polymorphic_function) with experimental_relax_shapes is deprecated and will be removed in a future version.\n",
      "Instructions for updating:\n",
      "experimental_relax_shapes is deprecated, use reduce_retracing instead\n",
      "WARNING:tensorflow:From /Users/jan/miniconda3/lib/python3.12/site-packages/tensorflow/python/util/deprecation.py:588: calling function (from tensorflow.python.eager.polymorphic_function.polymorphic_function) with experimental_relax_shapes is deprecated and will be removed in a future version.\n",
      "Instructions for updating:\n",
      "experimental_relax_shapes is deprecated, use reduce_retracing instead\n",
      "WARNING:tensorflow:From /Users/jan/miniconda3/lib/python3.12/site-packages/tensorflow/python/util/deprecation.py:588: calling function (from tensorflow.python.eager.polymorphic_function.polymorphic_function) with experimental_relax_shapes is deprecated and will be removed in a future version.\n",
      "Instructions for updating:\n",
      "experimental_relax_shapes is deprecated, use reduce_retracing instead\n",
      "WARNING:tensorflow:From /Users/jan/miniconda3/lib/python3.12/site-packages/tensorflow/python/util/deprecation.py:588: calling function (from tensorflow.python.eager.polymorphic_function.polymorphic_function) with experimental_relax_shapes is deprecated and will be removed in a future version.\n",
      "Instructions for updating:\n",
      "experimental_relax_shapes is deprecated, use reduce_retracing instead\n",
      "WARNING:tensorflow:From /Users/jan/miniconda3/lib/python3.12/site-packages/tensorflow/python/util/deprecation.py:588: calling function (from tensorflow.python.eager.polymorphic_function.polymorphic_function) with experimental_relax_shapes is deprecated and will be removed in a future version.\n",
      "Instructions for updating:\n",
      "experimental_relax_shapes is deprecated, use reduce_retracing instead\n",
      "WARNING:tensorflow:From /Users/jan/miniconda3/lib/python3.12/site-packages/tensorflow/python/util/deprecation.py:588: calling function (from tensorflow.python.eager.polymorphic_function.polymorphic_function) with experimental_relax_shapes is deprecated and will be removed in a future version.\n",
      "Instructions for updating:\n",
      "experimental_relax_shapes is deprecated, use reduce_retracing instead\n",
      "WARNING:tensorflow:From /Users/jan/miniconda3/lib/python3.12/site-packages/tensorflow/python/util/deprecation.py:588: calling function (from tensorflow.python.eager.polymorphic_function.polymorphic_function) with experimental_relax_shapes is deprecated and will be removed in a future version.\n",
      "Instructions for updating:\n",
      "experimental_relax_shapes is deprecated, use reduce_retracing instead\n",
      "WARNING:tensorflow:From /Users/jan/miniconda3/lib/python3.12/site-packages/tensorflow/python/util/deprecation.py:588: calling function (from tensorflow.python.eager.polymorphic_function.polymorphic_function) with experimental_relax_shapes is deprecated and will be removed in a future version.\n",
      "Instructions for updating:\n",
      "experimental_relax_shapes is deprecated, use reduce_retracing instead\n",
      "WARNING:tensorflow:From /Users/jan/miniconda3/lib/python3.12/site-packages/tensorflow/python/util/deprecation.py:588: calling function (from tensorflow.python.eager.polymorphic_function.polymorphic_function) with experimental_relax_shapes is deprecated and will be removed in a future version.\n",
      "Instructions for updating:\n",
      "experimental_relax_shapes is deprecated, use reduce_retracing instead\n",
      "WARNING:tensorflow:From /Users/jan/miniconda3/lib/python3.12/site-packages/tensorflow/python/util/deprecation.py:588: calling function (from tensorflow.python.eager.polymorphic_function.polymorphic_function) with experimental_relax_shapes is deprecated and will be removed in a future version.\n",
      "Instructions for updating:\n",
      "experimental_relax_shapes is deprecated, use reduce_retracing instead\n",
      "WARNING:tensorflow:From /Users/jan/miniconda3/lib/python3.12/site-packages/tensorflow/python/util/deprecation.py:588: calling function (from tensorflow.python.eager.polymorphic_function.polymorphic_function) with experimental_relax_shapes is deprecated and will be removed in a future version.\n",
      "Instructions for updating:\n",
      "experimental_relax_shapes is deprecated, use reduce_retracing instead\n"
     ]
    }
   ],
   "source": [
    "import os\n",
    "from Feat2LLM.load_data import SmallMolTraj\n",
    "\n",
    "mol = \"ethanol\"\n",
    "smallMol = SmallMolTraj(mol)\n",
    "smallMol.get_data()\n",
    "smallMol.gen_representation(n_components=10)\n",
    "smallMol.save()"
   ]
  },
  {
   "cell_type": "markdown",
   "metadata": {},
   "source": [
    "Take the liberty and inspect some of the attributes closer, such as the molecular geometries\n",
    "`R` and total energies `E`"
   ]
  },
  {
   "cell_type": "code",
   "execution_count": 2,
   "metadata": {},
   "outputs": [
    {
     "data": {
      "text/plain": [
       "(array([[[-0.14365933, -0.11813374, -0.56843375],\n",
       "         [-0.17613   ,  1.28513285, -0.00859315],\n",
       "         [ 0.21953989, -1.07718569,  0.51279995],\n",
       "         ...,\n",
       "         [ 0.86485323,  1.37019756,  0.45488715],\n",
       "         [-0.22079702,  2.03512503, -0.80257909],\n",
       "         [ 1.18606471, -0.96054634,  0.66677837]],\n",
       " \n",
       "        [[-0.10578499, -0.1377193 ,  0.52079075],\n",
       "         [ 0.78920739,  1.024839  ,  0.19255651],\n",
       "         [-0.6782202 , -0.79550559, -0.64059023],\n",
       "         ...,\n",
       "         [ 1.29847161,  1.52733501,  1.06527919],\n",
       "         [ 1.66915007,  0.64810055, -0.37921081],\n",
       "         [-0.14135049, -1.53521526, -0.90199907]],\n",
       " \n",
       "        [[ 0.46183668, -0.09754942,  0.30830768],\n",
       "         [ 0.36440547,  0.91478488, -0.90718201],\n",
       "         [-0.73503446, -0.82403172,  0.51703842],\n",
       "         ...,\n",
       "         [ 0.19877599,  1.9700135 , -0.57844053],\n",
       "         [ 1.30434569,  1.06046813, -1.41975101],\n",
       "         [-1.26015108, -0.15773751,  0.93072344]],\n",
       " \n",
       "        ...,\n",
       " \n",
       "        [[-0.08989914,  0.36860874,  0.50143883],\n",
       "         [-1.29349211, -0.11245275, -0.26734054],\n",
       "         [ 1.25774419, -0.16252318, -0.16555565],\n",
       "         ...,\n",
       "         [-2.1480689 ,  0.45992575, -0.01210172],\n",
       "         [-1.0788621 , -0.08734997, -1.3449256 ],\n",
       "         [ 1.16116266, -1.05106016, -0.56738196]],\n",
       " \n",
       "        [[-0.3015549 ,  0.03488426, -0.54783829],\n",
       "         [ 0.1595147 ,  1.21694931,  0.26091897],\n",
       "         [ 0.10975802, -1.10013676,  0.28044091],\n",
       "         ...,\n",
       "         [ 0.23906864,  2.15270148, -0.26557503],\n",
       "         [-0.42181904,  1.3327061 ,  1.11510457],\n",
       "         [ 0.03052315, -1.94321386, -0.16582637]],\n",
       " \n",
       "        [[-0.31527794, -0.47712965, -0.03293714],\n",
       "         [-0.91324316,  0.82695916,  0.47883881],\n",
       "         [ 1.12928019, -0.28885601, -0.36495512],\n",
       "         ...,\n",
       "         [-0.42222685,  1.01520265,  1.48209279],\n",
       "         [-0.78004431,  1.57154498, -0.19250714],\n",
       "         [ 1.17435335, -0.63259077, -1.28717699]]]),\n",
       " (80000, 9, 3),\n",
       " array([[-97199.55379545],\n",
       "        [-97200.42575917],\n",
       "        [-97198.95746679],\n",
       "        ...,\n",
       "        [-97194.2994163 ],\n",
       "        [-97200.73869711],\n",
       "        [-97198.00063176]]))"
      ]
     },
     "execution_count": 2,
     "metadata": {},
     "output_type": "execute_result"
    }
   ],
   "source": [
    "smallMol.R, smallMol.R.shape, smallMol.E"
   ]
  },
  {
   "cell_type": "markdown",
   "metadata": {},
   "source": [
    "The results for the representation vector `cMBDF` as well as the version in fewer dimensions `cMBDF_trans`, are saved in the `results` attribute. Note that `y` is the same as `E`."
   ]
  },
  {
   "cell_type": "code",
   "execution_count": 3,
   "metadata": {},
   "outputs": [
    {
     "data": {
      "text/plain": [
       "{'cMBDF': array([[ 2.89983701e+00,  2.88840014e+00,  2.76698828e+00, ...,\n",
       "          3.14799400e-01,  1.98983208e-01, -3.56525590e-01],\n",
       "        [ 3.08008333e+00,  2.98886867e+00,  2.86214369e+00, ...,\n",
       "          2.96018251e-01,  1.30452935e-01, -6.65330637e-01],\n",
       "        [ 3.13507108e+00,  2.83756928e+00,  2.69851356e+00, ...,\n",
       "          8.30616302e-02, -2.69229113e-03,  2.25016725e-01],\n",
       "        ...,\n",
       "        [ 2.78829167e+00,  2.78553966e+00,  2.77601557e+00, ...,\n",
       "          2.06898326e-01,  8.24476957e-02, -8.11069806e-01],\n",
       "        [ 2.97484197e+00,  2.80881947e+00,  2.78650804e+00, ...,\n",
       "          4.22128515e-01,  1.43599584e-01, -9.53113798e-01],\n",
       "        [ 2.89107775e+00,  2.80813578e+00,  2.71874738e+00, ...,\n",
       "          1.69056742e-01, -2.42575075e-02, -4.26317724e-01]]),\n",
       " 'cMBDF_trans': array([[ 0.79179631, -0.57478478,  1.09360668, ..., -0.10319124,\n",
       "         -0.28056333, -0.59782561],\n",
       "        [-1.77305174,  2.26196867,  0.24581852, ..., -0.13911092,\n",
       "         -0.01093774,  0.13706114],\n",
       "        [ 0.74278567,  0.27489479,  1.90717708, ...,  0.06487839,\n",
       "         -0.26078373, -0.25372606],\n",
       "        ...,\n",
       "        [ 3.81058877,  0.50089971,  1.76926762, ...,  0.84553287,\n",
       "          0.31025736,  0.86159073],\n",
       "        [-1.43830576,  1.46703437, -0.95847317, ...,  0.87019969,\n",
       "         -0.33359425, -0.4035875 ],\n",
       "        [ 1.07327764,  0.74233176,  1.84811273, ...,  0.13025412,\n",
       "         -0.15974095,  1.01376798]]),\n",
       " 'y': array([[-97199.55379545],\n",
       "        [-97200.42575917],\n",
       "        [-97198.95746679],\n",
       "        ...,\n",
       "        [-97194.2994163 ],\n",
       "        [-97200.73869711],\n",
       "        [-97198.00063176]])}"
      ]
     },
     "execution_count": 3,
     "metadata": {},
     "output_type": "execute_result"
    }
   ],
   "source": [
    "smallMol.results"
   ]
  },
  {
   "cell_type": "markdown",
   "metadata": {},
   "source": [
    "Next we just visualize the first two dimensions of the representation vector"
   ]
  },
  {
   "cell_type": "code",
   "execution_count": 2,
   "metadata": {},
   "outputs": [],
   "source": [
    "X, y = smallMol.results[\"cMBDF_trans\"], smallMol.results[\"y\"]"
   ]
  },
  {
   "cell_type": "code",
   "execution_count": 7,
   "metadata": {},
   "outputs": [
    {
     "data": {
      "image/png": "[encoded data removed]",
      "text/plain": [
       "<Figure size 600x600 with 1 Axes>"
      ]
     },
     "metadata": {},
     "output_type": "display_data"
    }
   ],
   "source": [
    "# select first two columns of X\n",
    "import seaborn as sns\n",
    "import matplotlib.pyplot as plt\n",
    "X = X[:, :2]\n",
    "import pandas as pd\n",
    "\n",
    "data = pd.DataFrame(X, columns=[\"Feature 1\", \"Feature 2\"])\n",
    "\n",
    "# Plotting the density plot using seaborn\n",
    "plt.figure(figsize=(6, 6))\n",
    "sns.kdeplot(x=data[\"Feature 1\"], y=data[\"Feature 2\"], cmap=\"viridis\", fill=True)\n",
    "\n",
    "plt.xlabel(\"$X_{1}$\")\n",
    "plt.ylabel(\"$X_{2}$\")\n",
    "plt.show()"
   ]
  },
  {
   "cell_type": "markdown",
   "metadata": {},
   "source": [
    "Finally we perform the last step before fitting the model, we convert the numerical vectors to string representations"
   ]
  },
  {
   "cell_type": "code",
   "execution_count": 8,
   "metadata": {},
   "outputs": [],
   "source": [
    "from Feat2LLM.vec2str import ZipFeaturizer\n",
    "from sklearn.model_selection import train_test_split\n",
    "\n",
    "\n",
    "X = smallMol.results[\"cMBDF_trans\"]\n",
    "y = smallMol.results[\"y\"]\n",
    "X_train, X_test, y_train, y_test = train_test_split(X, y, test_size=0.2, random_state=42)\n",
    "converter = ZipFeaturizer(n_bins=300)\n",
    "\n",
    "X_train = converter.bin_vectors(X_train)\n",
    "X_test = converter.bin_vectors(X_test)"
   ]
  },
  {
   "cell_type": "code",
   "execution_count": null,
   "metadata": {},
   "outputs": [],
   "source": [
    "X_test"
   ]
  },
  {
   "cell_type": "code",
   "execution_count": null,
   "metadata": {},
   "outputs": [],
   "source": [
    "from Feat2LLM.roberta_finetuning import write_data_to_json, load_JSON_data, MoleculeDataset\n",
    "\n",
    "# change the filename depending on the dataset\n",
    "write_data_to_json(X_train, y_train, 'train.json')\n",
    "write_data_to_json(X_test, y_test, 'test.json')\n",
    "\n",
    "data = load_JSON_data(\"train.json\")"
   ]
  },
  {
   "cell_type": "code",
   "execution_count": null,
   "metadata": {},
   "outputs": [],
   "source": [
    "import torch\n",
    "from torch import nn\n",
    "from torch.utils.data import DataLoader\n",
    "from transformers import RobertaTokenizer, RobertaModel, AdamW \n",
    "\n",
    "# Split the data into training and test sets (modify as needed if already split)\n",
    "train_data, test_data = train_test_split(data, test_size=0.2, random_state=42)\n",
    "tokenizer       = RobertaTokenizer.from_pretrained('roberta-base')\n",
    "train_dataset   = MoleculeDataset(train_data, tokenizer)\n",
    "test_dataset    = MoleculeDataset(test_data, tokenizer)\n",
    "\n",
    "# Define the custom model with a regression head\n",
    "class RobertaForRegression(nn.Module):\n",
    "    def __init__(self):\n",
    "        super().__init__()\n",
    "        self.roberta = RobertaModel.from_pretrained('roberta-base')\n",
    "        self.regression_head = nn.Linear(self.roberta.config.hidden_size, 1)\n",
    "\n",
    "    def forward(self, input_ids, attention_mask):\n",
    "        outputs = self.roberta(input_ids=input_ids, attention_mask=attention_mask)\n",
    "        sequence_output = outputs.last_hidden_state[:, 0, :]\n",
    "        logits = self.regression_head(sequence_output)\n",
    "        return logits\n",
    "\n",
    "# Set device: Apple/NVIDIA/CPU\n",
    "if torch.backends.mps.is_available():\n",
    "    device = torch.device(\"mps\")\n",
    "elif torch.cuda.is_available():\n",
    "    device = torch.device(\"cuda\")\n",
    "else:\n",
    "    device = torch.device(\"cpu\")\n",
    "model = RobertaForRegression().to(device)\n",
    "optimizer = AdamW(model.parameters(), lr=1e-6)\n",
    "\n",
    "# DataLoader setup\n",
    "train_loader = DataLoader(train_dataset, batch_size=64, shuffle=True)\n",
    "test_loader  = DataLoader(test_dataset, batch_size=64, shuffle=False)\n",
    "\n",
    "# Training loop\n",
    "model.train()\n",
    "for epoch in range(2):  # Number of epochs\n",
    "    for batch in train_loader:\n",
    "        optimizer.zero_grad()\n",
    "        inputs, labels = batch['input_ids'].to(device), batch['labels'].to(device)\n",
    "        mask = batch['attention_mask'].to(device)\n",
    "        outputs = model(inputs, mask).squeeze(-1)\n",
    "        loss = nn.MSELoss()(outputs, labels)\n",
    "        loss.backward()\n",
    "        optimizer.step()\n",
    "        print(f\"Epoch {epoch}, Loss: {loss.item()}\")\n",
    "\n",
    "# Evaluate the model\n",
    "model.eval()\n",
    "total_loss = 0\n",
    "with torch.no_grad():\n",
    "    for batch in test_loader:\n",
    "        inputs, labels = batch['input_ids'].to(device), batch['labels'].to(device)\n",
    "        mask = batch['attention_mask'].to(device)\n",
    "        outputs = model(inputs, mask).squeeze(-1)\n",
    "        loss = nn.MSELoss()(outputs, labels)\n",
    "        total_loss += loss.item()\n",
    "    print(f\"Test Loss: {total_loss / len(test_loader)}\")\n",
    "\n",
    "# Save model and optimizer state\n",
    "def save_model(model, optimizer, epoch, loss, filepath):\n",
    "    torch.save({\n",
    "        'model_state_dict': model.state_dict(),\n",
    "        'optimizer_state_dict': optimizer.state_dict(),\n",
    "        'epoch': epoch,\n",
    "        'loss': loss\n",
    "    }, filepath)\n",
    "\n",
    "# Assuming you want to save the model after training\n",
    "model.eval()\n",
    "\n",
    "if not os.path.exists('save_models'):\n",
    "    os.makedirs('save_models')\n",
    "\n",
    "save_model(model, optimizer, epoch, loss.item(), \"regression.pth\")"
   ]
  }
 ],
 "metadata": {
  "kernelspec": {
   "display_name": "Python 3",
   "language": "python",
   "name": "python3"
  },
  "language_info": {
   "codemirror_mode": {
    "name": "ipython",
    "version": 3
   },
   "file_extension": ".py",
   "mimetype": "text/x-python",
   "name": "python",
   "nbconvert_exporter": "python",
   "pygments_lexer": "ipython3",
   "version": "3.12.2"
  }
 },
 "nbformat": 4,
 "nbformat_minor": 2
}
